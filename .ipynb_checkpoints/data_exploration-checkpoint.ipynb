{
 "cells": [
  {
   "cell_type": "code",
   "execution_count": 1,
   "metadata": {},
   "outputs": [],
   "source": [
    "import os\n",
    "import pandas as pd\n",
    "import numpy as np\n",
    "import matplotlib.pylab as plt\n",
    "import seaborn as sns\n",
    "from itertools import cycle\n",
    "pd.set_option('max_columns', 50)\n",
    "plt.style.use('bmh')\n",
    "color_pal = plt.rcParams['axes.prop_cycle'].by_key()['color']\n",
    "color_cycle = cycle(plt.rcParams['axes.prop_cycle'].by_key()['color'])"
   ]
  },
  {
   "cell_type": "markdown",
   "metadata": {},
   "source": [
    "# Dataset Files\n",
    "- `calendar.csv` - Contains information about the dates on which the products are sold.\n",
    "- `sales_train_validation.csv` - Contains the historical daily unit sales data per product and store [d_1 - d_1913]\n",
    "- `sell_prices.csv` - Contains information about the price of the products sold per store and date.\n",
    "- `sales_train_evaluation.csv` - Available one month before competition deadline. Will include sales [d_1 - d_1941]\n",
    "- `sample_submission.csv` - Submission for the 28 days ahead forecast"
   ]
  },
  {
   "cell_type": "code",
   "execution_count": 2,
   "metadata": {},
   "outputs": [
    {
     "ename": "FileNotFoundError",
     "evalue": "[WinError 3] The system cannot find the path specified: 'dataset/'",
     "output_type": "error",
     "traceback": [
      "\u001b[1;31m---------------------------------------------------------------------------\u001b[0m",
      "\u001b[1;31mFileNotFoundError\u001b[0m                         Traceback (most recent call last)",
      "\u001b[1;32m<ipython-input-2-618d667b7de5>\u001b[0m in \u001b[0;36m<module>\u001b[1;34m\u001b[0m\n\u001b[1;32m----> 1\u001b[1;33m \u001b[0mos\u001b[0m\u001b[1;33m.\u001b[0m\u001b[0mlistdir\u001b[0m\u001b[1;33m(\u001b[0m\u001b[1;34m\"dataset/\"\u001b[0m\u001b[1;33m)\u001b[0m\u001b[1;33m\u001b[0m\u001b[1;33m\u001b[0m\u001b[0m\n\u001b[0m",
      "\u001b[1;31mFileNotFoundError\u001b[0m: [WinError 3] The system cannot find the path specified: 'dataset/'"
     ]
    }
   ],
   "source": [
    "os.listdir(\"dataset/\")"
   ]
  },
  {
   "cell_type": "code",
   "execution_count": null,
   "metadata": {},
   "outputs": [],
   "source": [
    "# loading the dataset files\n",
    "cal = pd.read_csv('dataset/calendar.csv')"
   ]
  },
  {
   "cell_type": "code",
   "execution_count": null,
   "metadata": {},
   "outputs": [],
   "source": [
    "print(cal.shape)\n",
    "cal.head(10)"
   ]
  },
  {
   "cell_type": "code",
   "execution_count": null,
   "metadata": {},
   "outputs": [],
   "source": [
    "stv = pd.read_csv('dataset/sales_train_validation.csv')"
   ]
  },
  {
   "cell_type": "code",
   "execution_count": null,
   "metadata": {},
   "outputs": [],
   "source": [
    "print(stv.shape)\n",
    "stv.head(10)"
   ]
  },
  {
   "cell_type": "code",
   "execution_count": null,
   "metadata": {},
   "outputs": [],
   "source": [
    "ste = pd.read_csv('dataset/sales_train_evaluation.csv')"
   ]
  },
  {
   "cell_type": "code",
   "execution_count": null,
   "metadata": {},
   "outputs": [],
   "source": [
    "print(ste.shape)\n",
    "ste.head()"
   ]
  },
  {
   "cell_type": "markdown",
   "metadata": {},
   "source": [
    "We are given historic sales data in the `sales_train_validation` dataset.\n",
    "- rows exist in this dataset for days d_1 to d_1913. We are given the department, category, state, and store id of the item.\n",
    "- d_1914 - d_1941 represents the `validation` rows which we will predict in stage 1\n",
    "- d_1942 - d_1969 represents the `evaluation` rows which we will predict for the final competition standings."
   ]
  },
  {
   "cell_type": "code",
   "execution_count": null,
   "metadata": {},
   "outputs": [],
   "source": [
    "ss = pd.read_csv('dataset/sample_submission.csv')"
   ]
  },
  {
   "cell_type": "code",
   "execution_count": null,
   "metadata": {},
   "outputs": [],
   "source": [
    "print(ss.shape)\n",
    "ss.head(10)"
   ]
  },
  {
   "cell_type": "markdown",
   "metadata": {},
   "source": [
    "# Our Aim\n",
    "We are trying to predict forecast sales for the next 28 forecast days. The sample submission has the following format:\n",
    "- The columns represent 28 forecast days. We will fill these forecast days with our predictions.\n",
    "- The rows each represent a specific item. This id tells us the item type, state, and store."
   ]
  },
  {
   "cell_type": "code",
   "execution_count": null,
   "metadata": {},
   "outputs": [],
   "source": [
    "sellp = pd.read_csv('dataset/sell_prices.csv')"
   ]
  },
  {
   "cell_type": "code",
   "execution_count": null,
   "metadata": {},
   "outputs": [],
   "source": [
    "print(sellp.shape)\n",
    "sellp.head(10)"
   ]
  },
  {
   "cell_type": "code",
   "execution_count": null,
   "metadata": {},
   "outputs": [],
   "source": [
    "# visualizing data for a singe item\n",
    "\n",
    "day_cols = [col for col in stv.columns if 'd_' in col]\n",
    "print(\"Total number of days for training \", len(day_cols))\n",
    "print(\"-----------------------------------------\")\n",
    "print(\"Starting 10 days \\n\", day_cols[:10])\n",
    "print(\"-----------------------------------------\")\n",
    "print(\"Last 10 days \\n\", day_cols[-10:])"
   ]
  },
  {
   "cell_type": "code",
   "execution_count": null,
   "metadata": {},
   "outputs": [],
   "source": [
    "'''\n",
    "for item : 'HOBBIES_1_001_CA_1_validation'\n",
    "just select the id as the index and the sales for the 1913 days\n",
    "'''\n",
    "stv.loc[stv['id'] == 'HOBBIES_1_001_CA_1_validation'] \\\n",
    "    .set_index('id')[day_cols].T \\\n",
    "    .plot(figsize = (20, 7), title = \"HOBBIES_1_001_CA_1 sales\",\n",
    "          color = next(color_cycle))\n",
    "plt.ylabel('unit sales')\n",
    "plt.xlabel('day')\n",
    "plt.show()"
   ]
  },
  {
   "cell_type": "code",
   "execution_count": null,
   "metadata": {},
   "outputs": [],
   "source": [
    "stv.loc[stv['id'] == 'FOODS_3_090_CA_3_validation'] \\\n",
    "    .set_index('id')[day_cols].T \\\n",
    "    .plot(figsize = (20, 7), title = \"FOODS_3_090_CA_3 sales\",\n",
    "          color = next(color_cycle))\n",
    "plt.ylabel('unit sales')\n",
    "plt.xlabel('day')\n",
    "plt.show()"
   ]
  },
  {
   "cell_type": "markdown",
   "metadata": {},
   "source": [
    "## Merging the data with real dates\n",
    "- We are given a calendar with additional information about past and future dates.\n",
    "- The calendar data can be merged with our days data\n",
    "- From this we can find weekly and annual trends"
   ]
  },
  {
   "cell_type": "code",
   "execution_count": null,
   "metadata": {},
   "outputs": [],
   "source": [
    "cols = ['d','date','event_name_1','event_name_2','event_type_1','event_type_2', 'snap_CA']\n",
    "cal[cols].head()"
   ]
  },
  {
   "cell_type": "code",
   "execution_count": null,
   "metadata": {},
   "outputs": [],
   "source": [
    "# Merge calendar on our items' data\n",
    "example = stv.loc[stv['id'] == 'FOODS_3_090_CA_3_validation'][day_cols].T\n",
    "example = example.rename(columns={8412:'FOODS_3_090_CA_3'}) # Name it correctly\n",
    "example = example.reset_index().rename(columns={'index': 'd'}) # make the index \"d\"\n",
    "example = example.merge(cal, how='left', validate='1:1')\n",
    "example.set_index('date')['FOODS_3_090_CA_3'] \\\n",
    "    .plot(figsize=(15, 5),\n",
    "          color=next(color_cycle),\n",
    "          title='FOODS_3_090_CA_3 sales by actual sale dates')\n",
    "plt.show()\n",
    "\n",
    "# Select more top selling examples\n",
    "example2 = stv.loc[stv['id'] == 'HOBBIES_1_234_CA_3_validation'][day_cols].T\n",
    "example2 = example2.rename(columns={6324:'HOBBIES_1_234_CA_3'}) \n",
    "example2 = example2.reset_index().rename(columns={'index': 'd'}) \n",
    "example2 = example2.merge(cal, how='left', validate='1:1')\n",
    "\n",
    "example3 = stv.loc[stv['id'] == 'HOUSEHOLD_1_118_CA_3_validation'][day_cols].T\n",
    "example3 = example3.rename(columns={6776:'HOUSEHOLD_1_118_CA_3'})\n",
    "example3 = example3.reset_index().rename(columns={'index': 'd'})\n",
    "example3 = example3.merge(cal, how='left', validate='1:1')"
   ]
  },
  {
   "cell_type": "markdown",
   "metadata": {},
   "source": [
    "# Getting narrower results\n",
    "- Day of the week\n",
    "- Month \n",
    "- Year"
   ]
  },
  {
   "cell_type": "code",
   "execution_count": null,
   "metadata": {},
   "outputs": [],
   "source": [
    "examples = ['FOODS_3_090_CA_3','HOBBIES_1_234_CA_3','HOUSEHOLD_1_118_CA_3']\n",
    "example_df = [example, example2, example3]\n",
    "for i in [0, 1, 2]:\n",
    "    fig, (ax1, ax2, ax3) = plt.subplots(1, 3, figsize=(15, 3))\n",
    "    example_df[i].groupby('wday').mean()[examples[i]] \\\n",
    "        .plot(kind='line',\n",
    "              title='average sale: day of week',\n",
    "              lw=5,\n",
    "              color=color_pal[0],\n",
    "              ax=ax1)\n",
    "    example_df[i].groupby('month').mean()[examples[i]] \\\n",
    "        .plot(kind='line',\n",
    "              title='average sale: month',\n",
    "              lw=5,\n",
    "              color=color_pal[4],\n",
    "\n",
    "              ax=ax2)\n",
    "    example_df[i].groupby('year').mean()[examples[i]] \\\n",
    "        .plot(kind='line',\n",
    "              lw=5,\n",
    "              title='average sale: year',\n",
    "              color=color_pal[2],\n",
    "\n",
    "              ax=ax3)\n",
    "    fig.suptitle(f'Trends for item: {examples[i]}',\n",
    "                 size=20,\n",
    "                 y=1.1)\n",
    "    plt.tight_layout()\n",
    "    plt.show()"
   ]
  },
  {
   "cell_type": "code",
   "execution_count": null,
   "metadata": {},
   "outputs": [],
   "source": [
    "# plotting 10 items to notice some trends\n",
    "ten_examples = stv.sample(10, random_state=529) \\\n",
    "        .set_index('id')[day_cols] \\\n",
    "    .T \\\n",
    "    .merge(cal.set_index('d')['date'],\n",
    "           left_index=True,\n",
    "           right_index=True,\n",
    "            validate='1:1') \\\n",
    "    .set_index('date')"
   ]
  },
  {
   "cell_type": "code",
   "execution_count": null,
   "metadata": {},
   "outputs": [],
   "source": [
    "fig, axs = plt.subplots(5, 2, figsize=(15, 20))\n",
    "axs = axs.flatten()\n",
    "ax_idx = 0\n",
    "for item in ten_examples.columns:\n",
    "    ten_examples[item].plot(title=item,\n",
    "                              color=next(color_cycle),\n",
    "                              ax=axs[ax_idx])\n",
    "    ax_idx += 1\n",
    "plt.tight_layout()\n",
    "plt.show()"
   ]
  },
  {
   "cell_type": "markdown",
   "metadata": {},
   "source": [
    "# Some Observations\n",
    "- Some items are unavailable for certain durations of time\n",
    "- There is a huge range difference in the sales of items\n",
    "- for some items max sales is 6 while for some it is 800\n",
    "- there are occasional spikes in the sales\n",
    "- this could be due to weekends or some special events.\n",
    "- drop in the sales price could also account for the same."
   ]
  },
  {
   "cell_type": "markdown",
   "metadata": {},
   "source": [
    "# Combined Sales over Time by Category"
   ]
  },
  {
   "cell_type": "code",
   "execution_count": null,
   "metadata": {},
   "outputs": [],
   "source": []
  }
 ],
 "metadata": {
  "kernelspec": {
   "display_name": "Python 3",
   "language": "python",
   "name": "python3"
  },
  "language_info": {
   "codemirror_mode": {
    "name": "ipython",
    "version": 3
   },
   "file_extension": ".py",
   "mimetype": "text/x-python",
   "name": "python",
   "nbconvert_exporter": "python",
   "pygments_lexer": "ipython3",
   "version": "3.8.3"
  }
 },
 "nbformat": 4,
 "nbformat_minor": 4
}
